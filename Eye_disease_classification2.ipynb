{
 "cells": [
  {
   "cell_type": "code",
   "execution_count": 10,
   "id": "y2kK8B0J_44H",
   "metadata": {
    "colab": {
     "base_uri": "https://localhost:8080/"
    },
    "executionInfo": {
     "elapsed": 2732,
     "status": "ok",
     "timestamp": 1742901673631,
     "user": {
      "displayName": "Maganti Srikanth",
      "userId": "17653617933184362540"
     },
     "user_tz": -330
    },
    "id": "y2kK8B0J_44H",
    "outputId": "bf73ab16-0685-40e7-fb2e-eaf3eee1ff7e"
   },
   "outputs": [
    {
     "name": "stdout",
     "output_type": "stream",
     "text": [
      "Requirement already satisfied: opendatasets in c:\\users\\yeswa\\appdata\\local\\programs\\python\\python313\\lib\\site-packages (0.1.22)\n",
      "Requirement already satisfied: tqdm in c:\\users\\yeswa\\appdata\\local\\programs\\python\\python313\\lib\\site-packages (from opendatasets) (4.67.1)\n",
      "Requirement already satisfied: kaggle in c:\\users\\yeswa\\appdata\\local\\programs\\python\\python313\\lib\\site-packages (from opendatasets) (1.7.4.2)\n",
      "Requirement already satisfied: click in c:\\users\\yeswa\\appdata\\local\\programs\\python\\python313\\lib\\site-packages (from opendatasets) (8.1.8)\n",
      "Requirement already satisfied: colorama in c:\\users\\yeswa\\appdata\\local\\programs\\python\\python313\\lib\\site-packages (from click->opendatasets) (0.4.6)\n",
      "Requirement already satisfied: bleach in c:\\users\\yeswa\\appdata\\local\\programs\\python\\python313\\lib\\site-packages (from kaggle->opendatasets) (6.2.0)\n",
      "Requirement already satisfied: certifi>=14.05.14 in c:\\users\\yeswa\\appdata\\local\\programs\\python\\python313\\lib\\site-packages (from kaggle->opendatasets) (2025.1.31)\n",
      "Requirement already satisfied: charset-normalizer in c:\\users\\yeswa\\appdata\\local\\programs\\python\\python313\\lib\\site-packages (from kaggle->opendatasets) (3.4.1)\n",
      "Requirement already satisfied: idna in c:\\users\\yeswa\\appdata\\local\\programs\\python\\python313\\lib\\site-packages (from kaggle->opendatasets) (3.10)\n",
      "Requirement already satisfied: protobuf in c:\\users\\yeswa\\appdata\\local\\programs\\python\\python313\\lib\\site-packages (from kaggle->opendatasets) (5.29.4)\n",
      "Requirement already satisfied: python-dateutil>=2.5.3 in c:\\users\\yeswa\\appdata\\local\\programs\\python\\python313\\lib\\site-packages (from kaggle->opendatasets) (2.9.0.post0)\n",
      "Requirement already satisfied: python-slugify in c:\\users\\yeswa\\appdata\\local\\programs\\python\\python313\\lib\\site-packages (from kaggle->opendatasets) (8.0.4)\n",
      "Requirement already satisfied: requests in c:\\users\\yeswa\\appdata\\local\\programs\\python\\python313\\lib\\site-packages (from kaggle->opendatasets) (2.32.3)\n",
      "Requirement already satisfied: setuptools>=21.0.0 in c:\\users\\yeswa\\appdata\\local\\programs\\python\\python313\\lib\\site-packages (from kaggle->opendatasets) (78.1.0)\n",
      "Requirement already satisfied: six>=1.10 in c:\\users\\yeswa\\appdata\\local\\programs\\python\\python313\\lib\\site-packages (from kaggle->opendatasets) (1.17.0)\n",
      "Requirement already satisfied: text-unidecode in c:\\users\\yeswa\\appdata\\local\\programs\\python\\python313\\lib\\site-packages (from kaggle->opendatasets) (1.3)\n",
      "Requirement already satisfied: urllib3>=1.15.1 in c:\\users\\yeswa\\appdata\\local\\programs\\python\\python313\\lib\\site-packages (from kaggle->opendatasets) (2.4.0)\n",
      "Requirement already satisfied: webencodings in c:\\users\\yeswa\\appdata\\local\\programs\\python\\python313\\lib\\site-packages (from kaggle->opendatasets) (0.5.1)\n",
      "Note: you may need to restart the kernel to use updated packages.\n"
     ]
    }
   ],
   "source": [
    "pip install opendatasets"
   ]
  },
  {
   "cell_type": "code",
   "execution_count": 9,
   "id": "00d2e625-ee94-41ce-838b-6956fc22d27d",
   "metadata": {
    "executionInfo": {
     "elapsed": 17,
     "status": "ok",
     "timestamp": 1742901673638,
     "user": {
      "displayName": "Maganti Srikanth",
      "userId": "17653617933184362540"
     },
     "user_tz": -330
    },
    "id": "00d2e625-ee94-41ce-838b-6956fc22d27d"
   },
   "outputs": [
    {
     "ename": "ModuleNotFoundError",
     "evalue": "No module named 'cgi'",
     "output_type": "error",
     "traceback": [
      "\u001b[31m---------------------------------------------------------------------------\u001b[39m",
      "\u001b[31mModuleNotFoundError\u001b[39m                       Traceback (most recent call last)",
      "\u001b[36mCell\u001b[39m\u001b[36m \u001b[39m\u001b[32mIn[9]\u001b[39m\u001b[32m, line 10\u001b[39m\n\u001b[32m      8\u001b[39m \u001b[38;5;28;01mimport\u001b[39;00m\u001b[38;5;250m \u001b[39m\u001b[34;01mmatplotlib\u001b[39;00m\u001b[34;01m.\u001b[39;00m\u001b[34;01mpyplot\u001b[39;00m\u001b[38;5;250m \u001b[39m\u001b[38;5;28;01mas\u001b[39;00m\u001b[38;5;250m \u001b[39m\u001b[34;01mplt\u001b[39;00m\n\u001b[32m      9\u001b[39m \u001b[38;5;28;01mimport\u001b[39;00m\u001b[38;5;250m \u001b[39m\u001b[34;01mnumpy\u001b[39;00m\u001b[38;5;250m \u001b[39m\u001b[38;5;28;01mas\u001b[39;00m\u001b[38;5;250m \u001b[39m\u001b[34;01mnp\u001b[39;00m\n\u001b[32m---> \u001b[39m\u001b[32m10\u001b[39m \u001b[38;5;28;01mimport\u001b[39;00m\u001b[38;5;250m \u001b[39m\u001b[34;01mopendatasets\u001b[39;00m\u001b[38;5;250m \u001b[39m\u001b[38;5;28;01mas\u001b[39;00m\u001b[38;5;250m \u001b[39m\u001b[34;01mod\u001b[39;00m\n",
      "\u001b[36mFile \u001b[39m\u001b[32mc:\\Users\\yeswa\\AppData\\Local\\Programs\\Python\\Python313\\Lib\\site-packages\\opendatasets\\__init__.py:2\u001b[39m\n\u001b[32m      1\u001b[39m \u001b[38;5;28;01mimport\u001b[39;00m\u001b[38;5;250m \u001b[39m\u001b[34;01mimportlib\u001b[39;00m\n\u001b[32m----> \u001b[39m\u001b[32m2\u001b[39m \u001b[38;5;28;01mfrom\u001b[39;00m\u001b[38;5;250m \u001b[39m\u001b[34;01mopendatasets\u001b[39;00m\u001b[34;01m.\u001b[39;00m\u001b[34;01mutils\u001b[39;00m\u001b[34;01m.\u001b[39;00m\u001b[34;01mnetwork\u001b[39;00m\u001b[38;5;250m \u001b[39m\u001b[38;5;28;01mimport\u001b[39;00m download_url, is_url\n\u001b[32m      3\u001b[39m \u001b[38;5;28;01mfrom\u001b[39;00m\u001b[38;5;250m \u001b[39m\u001b[34;01mopendatasets\u001b[39;00m\u001b[34;01m.\u001b[39;00m\u001b[34;01mutils\u001b[39;00m\u001b[34;01m.\u001b[39;00m\u001b[34;01mgoogledrive\u001b[39;00m\u001b[38;5;250m \u001b[39m\u001b[38;5;28;01mimport\u001b[39;00m is_google_drive_url, download_google_drive\n\u001b[32m      4\u001b[39m \u001b[38;5;28;01mimport\u001b[39;00m\u001b[38;5;250m \u001b[39m\u001b[34;01mos\u001b[39;00m\n",
      "\u001b[36mFile \u001b[39m\u001b[32mc:\\Users\\yeswa\\AppData\\Local\\Programs\\Python\\Python313\\Lib\\site-packages\\opendatasets\\utils\\__init__.py:1\u001b[39m\n\u001b[32m----> \u001b[39m\u001b[32m1\u001b[39m \u001b[38;5;28;01mfrom\u001b[39;00m\u001b[38;5;250m \u001b[39m\u001b[34;01mopendatasets\u001b[39;00m\u001b[34;01m.\u001b[39;00m\u001b[34;01mutils\u001b[39;00m\u001b[34;01m.\u001b[39;00m\u001b[34;01mnetwork\u001b[39;00m\u001b[38;5;250m \u001b[39m\u001b[38;5;28;01mimport\u001b[39;00m download_url\n\u001b[32m      3\u001b[39m GITHUB_RAW_BASE_URL = \u001b[33m'\u001b[39m\u001b[33mhttps://raw.githubusercontent.com/JovianML/opendatasets/master/data/\u001b[39m\u001b[33m'\u001b[39m\n\u001b[32m      6\u001b[39m \u001b[38;5;28;01mdef\u001b[39;00m\u001b[38;5;250m \u001b[39m\u001b[34mdownload_raw_files\u001b[39m(dataset_id, data_dir, dry_run, files):\n",
      "\u001b[36mFile \u001b[39m\u001b[32mc:\\Users\\yeswa\\AppData\\Local\\Programs\\Python\\Python313\\Lib\\site-packages\\opendatasets\\utils\\network.py:2\u001b[39m\n\u001b[32m      1\u001b[39m \u001b[38;5;28;01mimport\u001b[39;00m\u001b[38;5;250m \u001b[39m\u001b[34;01mos\u001b[39;00m\n\u001b[32m----> \u001b[39m\u001b[32m2\u001b[39m \u001b[38;5;28;01mimport\u001b[39;00m\u001b[38;5;250m \u001b[39m\u001b[34;01mcgi\u001b[39;00m\n\u001b[32m      3\u001b[39m \u001b[38;5;28;01mimport\u001b[39;00m\u001b[38;5;250m \u001b[39m\u001b[34;01mre\u001b[39;00m\n\u001b[32m      4\u001b[39m \u001b[38;5;28;01mfrom\u001b[39;00m\u001b[38;5;250m \u001b[39m\u001b[34;01mtqdm\u001b[39;00m\u001b[38;5;250m \u001b[39m\u001b[38;5;28;01mimport\u001b[39;00m tqdm\n",
      "\u001b[31mModuleNotFoundError\u001b[39m: No module named 'cgi'"
     ]
    }
   ],
   "source": [
    "import torch\n",
    "import torch.nn as nn\n",
    "import torch.nn.functional as F\n",
    "import torchvision\n",
    "from torch.utils.data import random_split,DataLoader\n",
    "import torchvision.transforms as transforms\n",
    "from torchvision.datasets import ImageFolder\n",
    "import matplotlib.pyplot as plt\n",
    "import numpy as np\n",
    "import opendatasets as od\n"
   ]
  },
  {
   "cell_type": "code",
   "execution_count": 11,
   "id": "fca97d20-cdce-4bbb-9ce4-71b5fcaa9989",
   "metadata": {
    "executionInfo": {
     "elapsed": 14,
     "status": "ok",
     "timestamp": 1742901673639,
     "user": {
      "displayName": "Maganti Srikanth",
      "userId": "17653617933184362540"
     },
     "user_tz": -330
    },
    "id": "fca97d20-cdce-4bbb-9ce4-71b5fcaa9989"
   },
   "outputs": [],
   "source": [
    "torch.cuda.empty_cache()"
   ]
  },
  {
   "cell_type": "code",
   "execution_count": 12,
   "id": "ecc4d47a-5740-4f0f-8c69-70b4472641fe",
   "metadata": {
    "executionInfo": {
     "elapsed": 13,
     "status": "ok",
     "timestamp": 1742901673639,
     "user": {
      "displayName": "Maganti Srikanth",
      "userId": "17653617933184362540"
     },
     "user_tz": -330
    },
    "id": "ecc4d47a-5740-4f0f-8c69-70b4472641fe"
   },
   "outputs": [],
   "source": [
    "transformation=transforms.Compose([\n",
    "    transforms.Resize((128, 128)),  # Resize image to 224x224\n",
    "    transforms.ToTensor(),          # Convert image to tensor\n",
    "    transforms.Normalize(mean=[0.5,0.5,0.5], std=[0.5,0.5,0.5])  # Normalize if needed\n",
    "])"
   ]
  },
  {
   "cell_type": "code",
   "execution_count": 8,
   "id": "6759034f-9771-4333-b848-f213166eb741",
   "metadata": {
    "colab": {
     "base_uri": "https://localhost:8080/"
    },
    "executionInfo": {
     "elapsed": 73725,
     "status": "ok",
     "timestamp": 1742901747355,
     "user": {
      "displayName": "Maganti Srikanth",
      "userId": "17653617933184362540"
     },
     "user_tz": -330
    },
    "id": "6759034f-9771-4333-b848-f213166eb741",
    "outputId": "cca92379-caac-4821-e972-1d5e102ac649"
   },
   "outputs": [
    {
     "ename": "NameError",
     "evalue": "name 'od' is not defined",
     "output_type": "error",
     "traceback": [
      "\u001b[31m---------------------------------------------------------------------------\u001b[39m",
      "\u001b[31mNameError\u001b[39m                                 Traceback (most recent call last)",
      "\u001b[36mCell\u001b[39m\u001b[36m \u001b[39m\u001b[32mIn[8]\u001b[39m\u001b[32m, line 2\u001b[39m\n\u001b[32m      1\u001b[39m dataset_url=\u001b[33m\"\u001b[39m\u001b[33mhttps://www.kaggle.com/datasets/linabennaa/eye-disease-image-dataset-mendeley\u001b[39m\u001b[33m\"\u001b[39m\n\u001b[32m----> \u001b[39m\u001b[32m2\u001b[39m \u001b[43mod\u001b[49m.download(dataset_url)\n",
      "\u001b[31mNameError\u001b[39m: name 'od' is not defined"
     ]
    }
   ],
   "source": [
    "dataset_url=\"https://www.kaggle.com/datasets/linabennaa/eye-disease-image-dataset-mendeley\"\n",
    "od.download(dataset_url)\n"
   ]
  },
  {
   "cell_type": "code",
   "execution_count": 14,
   "id": "12d27e89-512b-4abe-a746-e101e30336ca",
   "metadata": {
    "executionInfo": {
     "elapsed": 1,
     "status": "ok",
     "timestamp": 1742901747357,
     "user": {
      "displayName": "Maganti Srikanth",
      "userId": "17653617933184362540"
     },
     "user_tz": -330
    },
    "id": "12d27e89-512b-4abe-a746-e101e30336ca"
   },
   "outputs": [],
   "source": [
    "dataset=ImageFolder(\"./eye-disease-image-dataset-mendeley/Augmented Dataset\",transform=transformation)\n"
   ]
  },
  {
   "cell_type": "code",
   "execution_count": 15,
   "id": "6545f3db-3a33-43ca-bfd1-d53dadd46693",
   "metadata": {
    "colab": {
     "base_uri": "https://localhost:8080/"
    },
    "executionInfo": {
     "elapsed": 170,
     "status": "ok",
     "timestamp": 1742901747527,
     "user": {
      "displayName": "Maganti Srikanth",
      "userId": "17653617933184362540"
     },
     "user_tz": -330
    },
    "id": "6545f3db-3a33-43ca-bfd1-d53dadd46693",
    "outputId": "100798f0-888c-4fde-8c09-db3765cb8443"
   },
   "outputs": [
    {
     "name": "stdout",
     "output_type": "stream",
     "text": [
      "torch.Size([3, 128, 128])\n"
     ]
    }
   ],
   "source": [
    "print(dataset[0][0].shape)"
   ]
  },
  {
   "cell_type": "code",
   "execution_count": 16,
   "id": "1253eb5d-5260-4d8d-96e9-aace0666ff07",
   "metadata": {
    "colab": {
     "base_uri": "https://localhost:8080/"
    },
    "executionInfo": {
     "elapsed": 6,
     "status": "ok",
     "timestamp": 1742901747534,
     "user": {
      "displayName": "Maganti Srikanth",
      "userId": "17653617933184362540"
     },
     "user_tz": -330
    },
    "id": "1253eb5d-5260-4d8d-96e9-aace0666ff07",
    "outputId": "4d80e6b2-f4b7-4cc8-8148-f7c6a39572d4"
   },
   "outputs": [
    {
     "data": {
      "text/plain": [
       "['Central Serous Chorioretinopathy_Color Fundus',\n",
       " 'Diabetic Retinopathy',\n",
       " 'Disc Edema',\n",
       " 'Glaucoma',\n",
       " 'Healthy',\n",
       " 'Macular Scar',\n",
       " 'Myopia',\n",
       " 'Pterygium',\n",
       " 'Retinal Detachment',\n",
       " 'Retinitis Pigmentosa']"
      ]
     },
     "execution_count": 16,
     "metadata": {},
     "output_type": "execute_result"
    }
   ],
   "source": [
    "dataset.classes"
   ]
  },
  {
   "cell_type": "code",
   "execution_count": 16,
   "id": "2c403d1e-c70e-4dce-9e5b-17ba000e5db1",
   "metadata": {
    "executionInfo": {
     "elapsed": 5,
     "status": "ok",
     "timestamp": 1742901747548,
     "user": {
      "displayName": "Maganti Srikanth",
      "userId": "17653617933184362540"
     },
     "user_tz": -330
    },
    "id": "2c403d1e-c70e-4dce-9e5b-17ba000e5db1"
   },
   "outputs": [],
   "source": []
  },
  {
   "cell_type": "code",
   "execution_count": 17,
   "id": "b464785b-b659-4a59-8d02-66760a4865b1",
   "metadata": {
    "executionInfo": {
     "elapsed": 5,
     "status": "ok",
     "timestamp": 1742901747554,
     "user": {
      "displayName": "Maganti Srikanth",
      "userId": "17653617933184362540"
     },
     "user_tz": -330
    },
    "id": "b464785b-b659-4a59-8d02-66760a4865b1"
   },
   "outputs": [],
   "source": [
    "#create train test validation set\n",
    "total_size = len(dataset)  # 16140 images\n",
    "train_size = int(0.7 * total_size)    # 11298 images (70%)\n",
    "val_size = int(0.15 * total_size)     # 2421 images (15%)\n",
    "test_size = total_size - train_size - val_size  # 2421 images (remaining 15%)\n",
    "\n",
    "# Perform the split\n",
    "train_ds, val_ds, test_ds = random_split(dataset, [train_size, val_size, test_size], generator=torch.Generator().manual_seed(42))\n"
   ]
  },
  {
   "cell_type": "code",
   "execution_count": 18,
   "id": "ff88ed6d-0e1d-4700-acfd-4194cdbd55ae",
   "metadata": {
    "colab": {
     "base_uri": "https://localhost:8080/"
    },
    "executionInfo": {
     "elapsed": 51,
     "status": "ok",
     "timestamp": 1742901747606,
     "user": {
      "displayName": "Maganti Srikanth",
      "userId": "17653617933184362540"
     },
     "user_tz": -330
    },
    "id": "ff88ed6d-0e1d-4700-acfd-4194cdbd55ae",
    "outputId": "5eca3e5d-c2c0-4834-b41a-c749bfe17f09"
   },
   "outputs": [
    {
     "data": {
      "text/plain": [
       "11369"
      ]
     },
     "execution_count": 18,
     "metadata": {},
     "output_type": "execute_result"
    }
   ],
   "source": [
    "len(train_ds)"
   ]
  },
  {
   "cell_type": "code",
   "execution_count": 19,
   "id": "3db9f433-cd12-47ed-80e8-2c112a17b7c6",
   "metadata": {
    "colab": {
     "base_uri": "https://localhost:8080/"
    },
    "executionInfo": {
     "elapsed": 3,
     "status": "ok",
     "timestamp": 1742901747608,
     "user": {
      "displayName": "Maganti Srikanth",
      "userId": "17653617933184362540"
     },
     "user_tz": -330
    },
    "id": "3db9f433-cd12-47ed-80e8-2c112a17b7c6",
    "outputId": "750f9039-b335-49de-9949-5de7bbcb0cf0"
   },
   "outputs": [
    {
     "name": "stderr",
     "output_type": "stream",
     "text": [
      "/usr/local/lib/python3.11/dist-packages/torch/utils/data/dataloader.py:624: UserWarning: This DataLoader will create 4 worker processes in total. Our suggested max number of worker in current system is 2, which is smaller than what this DataLoader is going to create. Please be aware that excessive worker creation might get DataLoader running slow or even freeze, lower the worker number to avoid potential slowness/freeze if necessary.\n",
      "  warnings.warn(\n"
     ]
    }
   ],
   "source": [
    "#creating batches\n",
    "batch=64\n",
    "train_dl=DataLoader(train_ds,batch_size=batch,shuffle=True,num_workers=4,pin_memory=True)\n",
    "test_dl=DataLoader(test_ds,batch_size=batch,num_workers=4,pin_memory=True)\n",
    "val_dl=DataLoader(val_ds,batch_size=2*batch,num_workers=4,pin_memory=True)"
   ]
  },
  {
   "cell_type": "code",
   "execution_count": 19,
   "id": "38db6084-ac4c-41c8-a42e-8dafbf33c2be",
   "metadata": {
    "executionInfo": {
     "elapsed": 1,
     "status": "ok",
     "timestamp": 1742901747609,
     "user": {
      "displayName": "Maganti Srikanth",
      "userId": "17653617933184362540"
     },
     "user_tz": -330
    },
    "id": "38db6084-ac4c-41c8-a42e-8dafbf33c2be"
   },
   "outputs": [],
   "source": []
  },
  {
   "cell_type": "code",
   "execution_count": 20,
   "id": "04630830-99cf-4623-8a60-f13c54396175",
   "metadata": {
    "executionInfo": {
     "elapsed": 8,
     "status": "ok",
     "timestamp": 1742901747618,
     "user": {
      "displayName": "Maganti Srikanth",
      "userId": "17653617933184362540"
     },
     "user_tz": -330
    },
    "id": "04630830-99cf-4623-8a60-f13c54396175"
   },
   "outputs": [],
   "source": [
    "from torchvision.utils import make_grid\n",
    "stats=((0.4914,0.4822,0.4465),(0.2023,0.1994,0.2010))\n",
    "def denormalize(images,means,stds):\n",
    "    means=torch.tensor(means).reshape(1,3,1,1)\n",
    "    stds=torch.tensor(stds).reshape(1,3,1,1)\n",
    "    return images*stds+means\n",
    "def show_batch(dl):\n",
    "    for images,labels in dl:\n",
    "        fig,ax=plt.subplots(figsize=(12,12))\n",
    "        ax.set_xticks([])\n",
    "        ax.set_yticks([])\n",
    "        denorm_images=denormalize(images,*stats)\n",
    "        ax.imshow(make_grid(denorm_images[:64],nrow=8).permute(1,2,0).clamp(0,1))\n",
    "        break\n"
   ]
  },
  {
   "cell_type": "code",
   "execution_count": null,
   "id": "5139fbd6-9d82-4cec-bbf2-c8014ee533a1",
   "metadata": {
    "colab": {
     "base_uri": "https://localhost:8080/",
     "height": 925
    },
    "executionInfo": {
     "elapsed": 20526,
     "status": "ok",
     "timestamp": 1742901768145,
     "user": {
      "displayName": "Maganti Srikanth",
      "userId": "17653617933184362540"
     },
     "user_tz": -330
    },
    "id": "5139fbd6-9d82-4cec-bbf2-c8014ee533a1",
    "outputId": "d44a81cc-40c7-4be6-8fc6-80d830aa7d27"
   },
   "outputs": [
    {
     "ename": "NameError",
     "evalue": "name 'show_batch' is not defined",
     "output_type": "error",
     "traceback": [
      "\u001b[31m---------------------------------------------------------------------------\u001b[39m",
      "\u001b[31mNameError\u001b[39m                                 Traceback (most recent call last)",
      "\u001b[36mCell\u001b[39m\u001b[36m \u001b[39m\u001b[32mIn[7]\u001b[39m\u001b[32m, line 1\u001b[39m\n\u001b[32m----> \u001b[39m\u001b[32m1\u001b[39m \u001b[43mshow_batch\u001b[49m(train_dl)\n",
      "\u001b[31mNameError\u001b[39m: name 'show_batch' is not defined"
     ]
    }
   ],
   "source": [
    "show_batch(train_dl)"
   ]
  },
  {
   "cell_type": "markdown",
   "id": "6bdcfb17-49f4-4b2b-a5ca-494bb1ce4296",
   "metadata": {
    "id": "6bdcfb17-49f4-4b2b-a5ca-494bb1ce4296"
   },
   "source": [
    "## Defining the Model"
   ]
  },
  {
   "cell_type": "code",
   "execution_count": 1,
   "id": "7b4fc362-1186-4b4b-a09c-adc369b5bf25",
   "metadata": {
    "executionInfo": {
     "elapsed": 0,
     "status": "ok",
     "timestamp": 1742901768148,
     "user": {
      "displayName": "Maganti Srikanth",
      "userId": "17653617933184362540"
     },
     "user_tz": -330
    },
    "id": "7b4fc362-1186-4b4b-a09c-adc369b5bf25"
   },
   "outputs": [
    {
     "ename": "NameError",
     "evalue": "name 'nn' is not defined",
     "output_type": "error",
     "traceback": [
      "\u001b[31m---------------------------------------------------------------------------\u001b[39m",
      "\u001b[31mNameError\u001b[39m                                 Traceback (most recent call last)",
      "\u001b[36mCell\u001b[39m\u001b[36m \u001b[39m\u001b[32mIn[1]\u001b[39m\u001b[32m, line 2\u001b[39m\n\u001b[32m      1\u001b[39m \u001b[38;5;66;03m#image classification base\u001b[39;00m\n\u001b[32m----> \u001b[39m\u001b[32m2\u001b[39m \u001b[38;5;28;01mclass\u001b[39;00m\u001b[38;5;250m \u001b[39m\u001b[34;01mImageClassificationBase\u001b[39;00m(\u001b[43mnn\u001b[49m.Module):\n\u001b[32m      3\u001b[39m     \u001b[38;5;28;01mdef\u001b[39;00m\u001b[38;5;250m \u001b[39m\u001b[34mtraining_step\u001b[39m(\u001b[38;5;28mself\u001b[39m,batch):\n\u001b[32m      4\u001b[39m         images,labels=batch\n",
      "\u001b[31mNameError\u001b[39m: name 'nn' is not defined"
     ]
    }
   ],
   "source": [
    "#image classification base\n",
    "class ImageClassificationBase(nn.Module):\n",
    "    def training_step(self,batch):\n",
    "        images,labels=batch\n",
    "        outputs=self(images)\n",
    "        loss=F.cross_entropy(outputs,labels)\n",
    "        return loss\n",
    "    def validation_step(self,batch):\n",
    "        images, labels = batch\n",
    "        out = self(images)                    # Generate predictions\n",
    "        loss = F.cross_entropy(out, labels)   # Calculate loss\n",
    "        acc = accuracy(out, labels)           # Calculate accuracy\n",
    "        return {'val_loss': loss, 'val_acc': acc}\n",
    "    def validation_epoch_end(self,outputs):\n",
    "        acc=[x[\"val_acc\"] for x in outputs]\n",
    "        loss=[x['val_loss'] for x in outputs]\n",
    "\n",
    "        mean_acc=torch.stack(acc).mean()\n",
    "        mean_loss=torch.stack(loss).mean()\n",
    "        return {\"val_loss\":mean_loss.item(),\"val_acc\":mean_acc.item()}\n",
    "    def epoch_end(self,epoch,result):\n",
    "        print(\"Epoch [{}], train_loss:{:.4f} val_loss: {:.4f}, val_acc: {:.4f}\".format(epoch, result[\"train_loss\"],result['val_loss'], result['val_acc']))\n",
    "\n",
    "\n",
    "def accuracy(outputs,labels):\n",
    "    _,preds=torch.max(outputs,dim=1)\n",
    "    return torch.tensor(torch.sum(preds==labels).item()/len(preds))"
   ]
  },
  {
   "cell_type": "code",
   "execution_count": 23,
   "id": "21f1fcbd-6d9b-4b81-9412-f15c8daf8e44",
   "metadata": {
    "executionInfo": {
     "elapsed": 1,
     "status": "ok",
     "timestamp": 1742901768150,
     "user": {
      "displayName": "Maganti Srikanth",
      "userId": "17653617933184362540"
     },
     "user_tz": -330
    },
    "id": "21f1fcbd-6d9b-4b81-9412-f15c8daf8e44"
   },
   "outputs": [],
   "source": [
    "def conv_block(in_channels,out_channels,pool=False):\n",
    "    layers=[nn.Conv2d(in_channels,out_channels,kernel_size=3,padding=1,stride=1),\n",
    "           nn.BatchNorm2d(out_channels),\n",
    "           nn.ReLU(inplace=True)]\n",
    "    if pool:layers.append(nn.MaxPool2d(2))\n",
    "    return nn.Sequential(*layers)"
   ]
  },
  {
   "cell_type": "code",
   "execution_count": 24,
   "id": "47ff4f1d-0764-4a16-b417-935668e82efe",
   "metadata": {
    "executionInfo": {
     "elapsed": 1,
     "status": "ok",
     "timestamp": 1742901768151,
     "user": {
      "displayName": "Maganti Srikanth",
      "userId": "17653617933184362540"
     },
     "user_tz": -330
    },
    "id": "47ff4f1d-0764-4a16-b417-935668e82efe"
   },
   "outputs": [],
   "source": [
    "class ResNet9(ImageClassificationBase):\n",
    "    def __init__(self,in_channels,num_classes):\n",
    "        super().__init__()\n",
    "        #3X32X32\n",
    "        self.conv1=conv_block(in_channels,64)#64X128X128\n",
    "        self.conv2=conv_block(64,128,pool=True)#128X64X64\n",
    "        self.res1=nn.Sequential(conv_block(128,128),\n",
    "                               conv_block(128,128))#128X64X64\n",
    "        self.conv3=conv_block(128,256,pool=True) #256X32X32\n",
    "        self.conv4=conv_block(256,512,pool=True) #512X16X16\n",
    "        self.res2=nn.Sequential(conv_block(512,512),\n",
    "                               conv_block(512,512))\n",
    "\n",
    "        # self.conv5=conv_block(512,1024,pool=True) #1024X8x8\n",
    "        # self.res3=nn.Sequential(conv_block(1024,1024),\n",
    "        #                        conv_block(1024,1024))\n",
    "        self.classifier=nn.Sequential(nn.MaxPool2d(4), #512X4X4\n",
    "                                     nn.Flatten(),#512\n",
    "                                     nn.Dropout(0.2),#to avoid overfitting (randomly pick 20% output and set it to 0)\n",
    "                                     nn.Linear(512*4*4,num_classes)) #10\n",
    "    def forward(self,xb):\n",
    "        out=self.conv1(xb)\n",
    "        out=self.conv2(out)\n",
    "        out=self.res1(out)+out\n",
    "        out=self.conv3(out)\n",
    "        out=self.conv4(out)\n",
    "        out=self.res2(out)+out\n",
    "        # out=self.conv5(out)\n",
    "        # out=self.res3(out)+out\n",
    "        out=self.classifier(out)\n",
    "        return out\n"
   ]
  },
  {
   "cell_type": "code",
   "execution_count": 24,
   "id": "2b2c9199-dbc6-476e-86a3-2d507a74c73c",
   "metadata": {
    "executionInfo": {
     "elapsed": 0,
     "status": "ok",
     "timestamp": 1742901768152,
     "user": {
      "displayName": "Maganti Srikanth",
      "userId": "17653617933184362540"
     },
     "user_tz": -330
    },
    "id": "2b2c9199-dbc6-476e-86a3-2d507a74c73c"
   },
   "outputs": [],
   "source": []
  },
  {
   "cell_type": "code",
   "execution_count": 25,
   "id": "623de2c3-1712-425f-a2dd-3f5690e3d002",
   "metadata": {
    "executionInfo": {
     "elapsed": 0,
     "status": "ok",
     "timestamp": 1742901768153,
     "user": {
      "displayName": "Maganti Srikanth",
      "userId": "17653617933184362540"
     },
     "user_tz": -330
    },
    "id": "623de2c3-1712-425f-a2dd-3f5690e3d002"
   },
   "outputs": [],
   "source": [
    "def get_default_device():\n",
    "    if torch.cuda.is_available():\n",
    "        return torch.device(\"cuda\")\n",
    "    else:\n",
    "        return torch.device(\"cpu\")"
   ]
  },
  {
   "cell_type": "code",
   "execution_count": 26,
   "id": "13ce911f-d14e-4453-8421-8ee16122510c",
   "metadata": {
    "colab": {
     "base_uri": "https://localhost:8080/"
    },
    "executionInfo": {
     "elapsed": 7,
     "status": "ok",
     "timestamp": 1742901768161,
     "user": {
      "displayName": "Maganti Srikanth",
      "userId": "17653617933184362540"
     },
     "user_tz": -330
    },
    "id": "13ce911f-d14e-4453-8421-8ee16122510c",
    "outputId": "05d18f68-19c9-4d2e-e972-8738bf74a61a"
   },
   "outputs": [
    {
     "data": {
      "text/plain": [
       "device(type='cuda')"
      ]
     },
     "execution_count": 26,
     "metadata": {},
     "output_type": "execute_result"
    }
   ],
   "source": [
    "device=get_default_device()\n",
    "device"
   ]
  },
  {
   "cell_type": "code",
   "execution_count": 27,
   "id": "d3742188-2dae-4a19-89b2-00375f5bbd10",
   "metadata": {
    "executionInfo": {
     "elapsed": 0,
     "status": "ok",
     "timestamp": 1742901768162,
     "user": {
      "displayName": "Maganti Srikanth",
      "userId": "17653617933184362540"
     },
     "user_tz": -330
    },
    "id": "d3742188-2dae-4a19-89b2-00375f5bbd10"
   },
   "outputs": [],
   "source": [
    "def to_device(data,device):\n",
    "    if(isinstance(data,(list,tuple))):\n",
    "        return [to_device(x,device) for x in data]\n",
    "    return data.to(device,non_blocking=True)"
   ]
  },
  {
   "cell_type": "code",
   "execution_count": 28,
   "id": "3c962909-2072-438d-943e-a0832165d097",
   "metadata": {
    "colab": {
     "base_uri": "https://localhost:8080/"
    },
    "executionInfo": {
     "elapsed": 14,
     "status": "ok",
     "timestamp": 1742901768177,
     "user": {
      "displayName": "Maganti Srikanth",
      "userId": "17653617933184362540"
     },
     "user_tz": -330
    },
    "id": "3c962909-2072-438d-943e-a0832165d097",
    "outputId": "39b961f1-5745-4d7b-b739-bf88d2258412"
   },
   "outputs": [
    {
     "data": {
      "text/plain": [
       "ResNet9(\n",
       "  (conv1): Sequential(\n",
       "    (0): Conv2d(3, 64, kernel_size=(3, 3), stride=(1, 1), padding=(1, 1))\n",
       "    (1): BatchNorm2d(64, eps=1e-05, momentum=0.1, affine=True, track_running_stats=True)\n",
       "    (2): ReLU(inplace=True)\n",
       "  )\n",
       "  (conv2): Sequential(\n",
       "    (0): Conv2d(64, 128, kernel_size=(3, 3), stride=(1, 1), padding=(1, 1))\n",
       "    (1): BatchNorm2d(128, eps=1e-05, momentum=0.1, affine=True, track_running_stats=True)\n",
       "    (2): ReLU(inplace=True)\n",
       "    (3): MaxPool2d(kernel_size=2, stride=2, padding=0, dilation=1, ceil_mode=False)\n",
       "  )\n",
       "  (res1): Sequential(\n",
       "    (0): Sequential(\n",
       "      (0): Conv2d(128, 128, kernel_size=(3, 3), stride=(1, 1), padding=(1, 1))\n",
       "      (1): BatchNorm2d(128, eps=1e-05, momentum=0.1, affine=True, track_running_stats=True)\n",
       "      (2): ReLU(inplace=True)\n",
       "    )\n",
       "    (1): Sequential(\n",
       "      (0): Conv2d(128, 128, kernel_size=(3, 3), stride=(1, 1), padding=(1, 1))\n",
       "      (1): BatchNorm2d(128, eps=1e-05, momentum=0.1, affine=True, track_running_stats=True)\n",
       "      (2): ReLU(inplace=True)\n",
       "    )\n",
       "  )\n",
       "  (conv3): Sequential(\n",
       "    (0): Conv2d(128, 256, kernel_size=(3, 3), stride=(1, 1), padding=(1, 1))\n",
       "    (1): BatchNorm2d(256, eps=1e-05, momentum=0.1, affine=True, track_running_stats=True)\n",
       "    (2): ReLU(inplace=True)\n",
       "    (3): MaxPool2d(kernel_size=2, stride=2, padding=0, dilation=1, ceil_mode=False)\n",
       "  )\n",
       "  (conv4): Sequential(\n",
       "    (0): Conv2d(256, 512, kernel_size=(3, 3), stride=(1, 1), padding=(1, 1))\n",
       "    (1): BatchNorm2d(512, eps=1e-05, momentum=0.1, affine=True, track_running_stats=True)\n",
       "    (2): ReLU(inplace=True)\n",
       "    (3): MaxPool2d(kernel_size=2, stride=2, padding=0, dilation=1, ceil_mode=False)\n",
       "  )\n",
       "  (res2): Sequential(\n",
       "    (0): Sequential(\n",
       "      (0): Conv2d(512, 512, kernel_size=(3, 3), stride=(1, 1), padding=(1, 1))\n",
       "      (1): BatchNorm2d(512, eps=1e-05, momentum=0.1, affine=True, track_running_stats=True)\n",
       "      (2): ReLU(inplace=True)\n",
       "    )\n",
       "    (1): Sequential(\n",
       "      (0): Conv2d(512, 512, kernel_size=(3, 3), stride=(1, 1), padding=(1, 1))\n",
       "      (1): BatchNorm2d(512, eps=1e-05, momentum=0.1, affine=True, track_running_stats=True)\n",
       "      (2): ReLU(inplace=True)\n",
       "    )\n",
       "  )\n",
       "  (classifier): Sequential(\n",
       "    (0): MaxPool2d(kernel_size=4, stride=4, padding=0, dilation=1, ceil_mode=False)\n",
       "    (1): Flatten(start_dim=1, end_dim=-1)\n",
       "    (2): Dropout(p=0.2, inplace=False)\n",
       "    (3): Linear(in_features=8192, out_features=10, bias=True)\n",
       "  )\n",
       ")"
      ]
     },
     "execution_count": 28,
     "metadata": {},
     "output_type": "execute_result"
    }
   ],
   "source": [
    "model=to_device(ResNet9(3,10),device)\n",
    "model"
   ]
  },
  {
   "cell_type": "code",
   "execution_count": 29,
   "id": "61423b71-87e4-42e0-b318-7e2a6b3f3d52",
   "metadata": {
    "executionInfo": {
     "elapsed": 21,
     "status": "ok",
     "timestamp": 1742901768199,
     "user": {
      "displayName": "Maganti Srikanth",
      "userId": "17653617933184362540"
     },
     "user_tz": -330
    },
    "id": "61423b71-87e4-42e0-b318-7e2a6b3f3d52"
   },
   "outputs": [],
   "source": [
    "class Device_Data_Loader():\n",
    "    def __init__(self,dl,device):\n",
    "        self.dl=dl\n",
    "        self.device=device\n",
    "    def __iter__(self):\n",
    "        for x in self.dl:\n",
    "            yield to_device(x,device)\n",
    "    def __len__(self):\n",
    "        return len(self.dl)\n"
   ]
  },
  {
   "cell_type": "code",
   "execution_count": 30,
   "id": "f672e951-41ee-4b0b-8e70-155fb179a448",
   "metadata": {
    "executionInfo": {
     "elapsed": 8,
     "status": "ok",
     "timestamp": 1742901768200,
     "user": {
      "displayName": "Maganti Srikanth",
      "userId": "17653617933184362540"
     },
     "user_tz": -330
    },
    "id": "f672e951-41ee-4b0b-8e70-155fb179a448"
   },
   "outputs": [],
   "source": [
    "train_dl=Device_Data_Loader(train_dl,device)\n",
    "val_dl=Device_Data_Loader(val_dl,device)"
   ]
  },
  {
   "cell_type": "markdown",
   "id": "6ba9f5b8-e218-41bc-a3eb-82c5a66fd00d",
   "metadata": {
    "id": "6ba9f5b8-e218-41bc-a3eb-82c5a66fd00d"
   },
   "source": [
    "## Training"
   ]
  },
  {
   "cell_type": "code",
   "execution_count": 31,
   "id": "3ab2d65e-f4ef-4840-9e2c-10272747656b",
   "metadata": {
    "executionInfo": {
     "elapsed": 4,
     "status": "ok",
     "timestamp": 1742901768211,
     "user": {
      "displayName": "Maganti Srikanth",
      "userId": "17653617933184362540"
     },
     "user_tz": -330
    },
    "id": "3ab2d65e-f4ef-4840-9e2c-10272747656b"
   },
   "outputs": [],
   "source": [
    "@torch.no_grad()\n",
    "def evaluate(model,val_loader):\n",
    "    model.eval()  # (for no randamization)some layer behave diff for train and test for ex :batchnorm,dropout we dont require dropout while evaulating\n",
    "    outputs=[model.validation_step(batch) for batch in val_loader]\n",
    "    return model.validation_epoch_end(outputs)"
   ]
  },
  {
   "cell_type": "code",
   "execution_count": 32,
   "id": "c54e66fd-c144-44af-8f2b-7f4c7b1a5813",
   "metadata": {
    "executionInfo": {
     "elapsed": 8,
     "status": "ok",
     "timestamp": 1742901768220,
     "user": {
      "displayName": "Maganti Srikanth",
      "userId": "17653617933184362540"
     },
     "user_tz": -330
    },
    "id": "c54e66fd-c144-44af-8f2b-7f4c7b1a5813"
   },
   "outputs": [],
   "source": [
    "def get_lr(optimizer):\n",
    "    for param_group in optimizer.param_groups:\n",
    "        return param_group[\"lr\"]"
   ]
  },
  {
   "cell_type": "code",
   "execution_count": 33,
   "id": "bbb4f761-5bea-4140-94de-64ee639e6573",
   "metadata": {
    "executionInfo": {
     "elapsed": 13,
     "status": "ok",
     "timestamp": 1742901768240,
     "user": {
      "displayName": "Maganti Srikanth",
      "userId": "17653617933184362540"
     },
     "user_tz": -330
    },
    "id": "bbb4f761-5bea-4140-94de-64ee639e6573"
   },
   "outputs": [],
   "source": [
    "def fit_one_cycle(epochs,max_lr,model,train_dl,val_dl,weight_decay=0,grad_clip=None,opt_func=torch.optim.SGD):\n",
    "    torch.cuda.empty_cache()\n",
    "    history=[]\n",
    "    optimizer=opt_func(model.parameters(),max_lr,weight_decay=weight_decay)\n",
    "    sched=torch.optim.lr_scheduler.OneCycleLR(optimizer,max_lr,epochs=epochs,steps_per_epoch=len(train_dl))\n",
    "\n",
    "    for epoch in range(epochs):\n",
    "        #training phase\n",
    "        model.train()\n",
    "        train_losses=[]\n",
    "        lrs=[]\n",
    "        for batch in train_dl:\n",
    "            loss=model.training_step(batch)\n",
    "            train_losses.append(loss)\n",
    "            loss.backward()\n",
    "\n",
    "            # grad clipping\n",
    "            if grad_clip:\n",
    "                nn.utils.clip_grad_value_(model.parameters(),grad_clip)\n",
    "            optimizer.step()\n",
    "            optimizer.zero_grad()\n",
    "\n",
    "            #record $update lr\n",
    "            lrs.append(get_lr(optimizer))\n",
    "            sched.step() #lr differ for each batch\n",
    "        #validation phase\n",
    "        result=evaluate(model,val_dl)\n",
    "        result[\"train_loss\"]=torch.stack(train_losses).mean().item()\n",
    "        result[\"lrs\"]=lrs\n",
    "        model.epoch_end(epoch,result)\n",
    "        history.append(result)\n",
    "    return history"
   ]
  },
  {
   "cell_type": "code",
   "execution_count": 56,
   "id": "jKaBAH9xbAWm",
   "metadata": {
    "executionInfo": {
     "elapsed": 4,
     "status": "ok",
     "timestamp": 1742908690788,
     "user": {
      "displayName": "Maganti Srikanth",
      "userId": "17653617933184362540"
     },
     "user_tz": -330
    },
    "id": "jKaBAH9xbAWm"
   },
   "outputs": [],
   "source": [
    "def fit(epochs,lr,model,train_dl,val_dl,weight_decay=0,grad_clip=None,opt_fn=torch.optim.SGD):\n",
    "    torch.cuda.empty_cache()\n",
    "    opt_fn=opt_fn(model.parameters(),lr,weight_decay=weight_decay)\n",
    "    history=[]\n",
    "\n",
    "    #training phase\n",
    "    for epoch in range(epochs):\n",
    "        model.train()\n",
    "        train_losses=[]\n",
    "        for batch in train_dl:\n",
    "            loss=model.training_step(batch)\n",
    "            train_losses.append(loss)\n",
    "            loss.backward()\n",
    "             # grad clipping\n",
    "            if grad_clip:\n",
    "                nn.utils.clip_grad_value_(model.parameters(),grad_clip)\n",
    "\n",
    "            opt_fn.step()\n",
    "            opt_fn.zero_grad()\n",
    "        #validation phase\n",
    "        result=evaluate(model,val_dl)\n",
    "        result[\"train_loss\"]=torch.stack(train_losses).mean().item()\n",
    "        model.epoch_end(epoch,result)\n",
    "        history.append(result)\n",
    "    return history"
   ]
  },
  {
   "cell_type": "code",
   "execution_count": 34,
   "id": "6d98ccb1-989a-485f-9d3e-1c0f3eb1a9b2",
   "metadata": {
    "colab": {
     "base_uri": "https://localhost:8080/"
    },
    "executionInfo": {
     "elapsed": 62731,
     "status": "ok",
     "timestamp": 1742901830971,
     "user": {
      "displayName": "Maganti Srikanth",
      "userId": "17653617933184362540"
     },
     "user_tz": -330
    },
    "id": "6d98ccb1-989a-485f-9d3e-1c0f3eb1a9b2",
    "outputId": "4c8cc8ca-1788-4b19-fd35-2af0337f3f42"
   },
   "outputs": [
    {
     "name": "stdout",
     "output_type": "stream",
     "text": [
      "[{'val_loss': 2.2923882007598877, 'val_acc': 0.15976563096046448}]\n"
     ]
    }
   ],
   "source": [
    "hist=[evaluate(model,val_dl)]\n",
    "print(hist)"
   ]
  },
  {
   "cell_type": "code",
   "execution_count": 35,
   "id": "1549ee48-11d0-47af-a879-db7d0e74834d",
   "metadata": {
    "executionInfo": {
     "elapsed": 3,
     "status": "ok",
     "timestamp": 1742901830973,
     "user": {
      "displayName": "Maganti Srikanth",
      "userId": "17653617933184362540"
     },
     "user_tz": -330
    },
    "id": "1549ee48-11d0-47af-a879-db7d0e74834d"
   },
   "outputs": [],
   "source": [
    "epochs=14\n",
    "max_lr=0.01\n",
    "grad_clip=0.1\n",
    "weight_decay=1e-4\n",
    "opt_func=torch.optim.Adam"
   ]
  },
  {
   "cell_type": "code",
   "execution_count": 36,
   "id": "8b43bce9-fbc8-442a-84e8-ed1f1736ebd0",
   "metadata": {
    "colab": {
     "base_uri": "https://localhost:8080/"
    },
    "executionInfo": {
     "elapsed": 4799053,
     "status": "ok",
     "timestamp": 1742906630027,
     "user": {
      "displayName": "Maganti Srikanth",
      "userId": "17653617933184362540"
     },
     "user_tz": -330
    },
    "id": "8b43bce9-fbc8-442a-84e8-ed1f1736ebd0",
    "outputId": "51004441-a10b-451d-d067-a3d58689481f"
   },
   "outputs": [
    {
     "name": "stdout",
     "output_type": "stream",
     "text": [
      "Epoch [0], train_loss:2.2351 val_loss: 2.2438, val_acc: 0.3527\n",
      "Epoch [1], train_loss:2.3742 val_loss: 1.7336, val_acc: 0.4133\n",
      "Epoch [2], train_loss:1.8194 val_loss: 1.3520, val_acc: 0.5340\n",
      "Epoch [3], train_loss:1.3273 val_loss: 1.2056, val_acc: 0.5527\n",
      "Epoch [4], train_loss:1.2068 val_loss: 1.1055, val_acc: 0.6008\n",
      "Epoch [5], train_loss:1.1178 val_loss: 1.0881, val_acc: 0.5813\n",
      "Epoch [6], train_loss:1.0283 val_loss: 0.9696, val_acc: 0.6402\n",
      "Epoch [7], train_loss:0.9392 val_loss: 0.8860, val_acc: 0.6770\n",
      "Epoch [8], train_loss:0.8671 val_loss: 0.8554, val_acc: 0.7004\n",
      "Epoch [9], train_loss:0.7401 val_loss: 0.7830, val_acc: 0.7266\n",
      "Epoch [10], train_loss:0.6557 val_loss: 0.7138, val_acc: 0.7395\n",
      "Epoch [11], train_loss:0.5673 val_loss: 0.6224, val_acc: 0.7773\n",
      "Epoch [12], train_loss:0.4739 val_loss: 0.5698, val_acc: 0.7949\n",
      "Epoch [13], train_loss:0.4158 val_loss: 0.5561, val_acc: 0.8070\n",
      "CPU times: user 1min 23s, sys: 22.5 s, total: 1min 45s\n",
      "Wall time: 1h 19min 59s\n"
     ]
    }
   ],
   "source": [
    "%%time\n",
    "history=fit_one_cycle(epochs,max_lr,model,train_dl,val_dl,grad_clip=grad_clip,weight_decay=weight_decay,opt_func=opt_func)"
   ]
  },
  {
   "cell_type": "code",
   "execution_count": 37,
   "id": "7de70cda-158e-4c37-af35-37fc7885c1c0",
   "metadata": {
    "colab": {
     "base_uri": "https://localhost:8080/",
     "height": 472
    },
    "executionInfo": {
     "elapsed": 182,
     "status": "ok",
     "timestamp": 1742906630208,
     "user": {
      "displayName": "Maganti Srikanth",
      "userId": "17653617933184362540"
     },
     "user_tz": -330
    },
    "id": "7de70cda-158e-4c37-af35-37fc7885c1c0",
    "outputId": "788c0026-9626-4841-c607-8aa8cd2b70f1"
   },
   "outputs": [
    {
     "data": {
      "image/png": "[encoded data removed]",
      "text/plain": [
       "<Figure size 640x480 with 1 Axes>"
      ]
     },
     "metadata": {},
     "output_type": "display_data"
    }
   ],
   "source": [
    "def plot_Accuracies(history):\n",
    "    plt.plot([x[\"val_acc\"] for x in history])\n",
    "    plt.xlabel(\"epoch\")\n",
    "    plt.ylabel(\"accuracy\")\n",
    "    plt.title(\"accuracy vs num_epochs\")\n",
    "\n",
    "\n",
    "plot_Accuracies(history)"
   ]
  },
  {
   "cell_type": "code",
   "execution_count": 38,
   "id": "24ee361d-e8da-47d1-92f1-f71554651af8",
   "metadata": {
    "executionInfo": {
     "elapsed": 2,
     "status": "ok",
     "timestamp": 1742906630216,
     "user": {
      "displayName": "Maganti Srikanth",
      "userId": "17653617933184362540"
     },
     "user_tz": -330
    },
    "id": "24ee361d-e8da-47d1-92f1-f71554651af8"
   },
   "outputs": [],
   "source": [
    "def plot_losses(history):\n",
    "    train_losses=[x[\"train_loss\"] for x in history]\n",
    "    val_losses=[x[\"val_loss\"] for x in history]\n",
    "    plt.plot(train_losses,\"-bx\")\n",
    "    plt.plot(val_losses,\"-rx\")\n",
    "    plt.xlabel(\"epoch\")\n",
    "    plt.ylabel(\"loss\")\n",
    "    plt.legend([\"Training\",\"Validation\"])\n",
    "    plt.title(\"loss vs No of epochs\")"
   ]
  },
  {
   "cell_type": "code",
   "execution_count": 39,
   "id": "a1f7fcb9-5510-4e72-b42c-8ed80c84b38f",
   "metadata": {
    "colab": {
     "base_uri": "https://localhost:8080/",
     "height": 472
    },
    "executionInfo": {
     "elapsed": 202,
     "status": "ok",
     "timestamp": 1742906630419,
     "user": {
      "displayName": "Maganti Srikanth",
      "userId": "17653617933184362540"
     },
     "user_tz": -330
    },
    "id": "a1f7fcb9-5510-4e72-b42c-8ed80c84b38f",
    "outputId": "fdc61c36-d9bb-4cd1-a380-6aee9ce72e36"
   },
   "outputs": [
    {
     "data": {
      "image/png": "[encoded data removed]",
      "text/plain": [
       "<Figure size 640x480 with 1 Axes>"
      ]
     },
     "metadata": {},
     "output_type": "display_data"
    }
   ],
   "source": [
    "plot_losses(history)"
   ]
  },
  {
   "cell_type": "code",
   "execution_count": 52,
   "id": "HFUGVrR6Vz53",
   "metadata": {
    "executionInfo": {
     "elapsed": 29,
     "status": "ok",
     "timestamp": 1742907946952,
     "user": {
      "displayName": "Maganti Srikanth",
      "userId": "17653617933184362540"
     },
     "user_tz": -330
    },
    "id": "HFUGVrR6Vz53"
   },
   "outputs": [],
   "source": [
    "def plot_lrs(history):\n",
    "    lrs=np.concatenate([x.get(\"lrs\",[]) for x in history])\n",
    "    plt.plot(lrs)\n",
    "    plt.xlabel(\"Batch_no\")\n",
    "    plt.ylabel(\"learning rate\")\n",
    "    plt.title(\"Learning rate vs batch no\")"
   ]
  },
  {
   "cell_type": "code",
   "execution_count": 53,
   "id": "cKVryt-yaMXZ",
   "metadata": {
    "colab": {
     "base_uri": "https://localhost:8080/",
     "height": 472
    },
    "executionInfo": {
     "elapsed": 60,
     "status": "ok",
     "timestamp": 1742907955386,
     "user": {
      "displayName": "Maganti Srikanth",
      "userId": "17653617933184362540"
     },
     "user_tz": -330
    },
    "id": "cKVryt-yaMXZ",
    "outputId": "6bd88a94-49a1-4cd6-93d7-46d181096f45"
   },
   "outputs": [
    {
     "data": {
      "image/png": "[encoded data removed]",
      "text/plain": [
       "<Figure size 640x480 with 1 Axes>"
      ]
     },
     "metadata": {},
     "output_type": "display_data"
    }
   ],
   "source": [
    "plot_lrs(history)"
   ]
  },
  {
   "cell_type": "markdown",
   "id": "1tWtRn7Aa5KN",
   "metadata": {
    "id": "1tWtRn7Aa5KN"
   },
   "source": [
    "#### Second Iteration"
   ]
  },
  {
   "cell_type": "code",
   "execution_count": 63,
   "id": "bQQocvPrcZ6Y",
   "metadata": {
    "executionInfo": {
     "elapsed": 15,
     "status": "ok",
     "timestamp": 1742912379650,
     "user": {
      "displayName": "Maganti Srikanth",
      "userId": "17653617933184362540"
     },
     "user_tz": -330
    },
    "id": "bQQocvPrcZ6Y"
   },
   "outputs": [],
   "source": [
    "lr=0.0003\n",
    "epochs2=5"
   ]
  },
  {
   "cell_type": "code",
   "execution_count": 64,
   "id": "4cFIgZYRcsMZ",
   "metadata": {
    "colab": {
     "base_uri": "https://localhost:8080/"
    },
    "executionInfo": {
     "elapsed": 1691858,
     "status": "ok",
     "timestamp": 1742914074323,
     "user": {
      "displayName": "Maganti Srikanth",
      "userId": "17653617933184362540"
     },
     "user_tz": -330
    },
    "id": "4cFIgZYRcsMZ",
    "outputId": "f9f7dd08-9f28-4aae-e74b-bd28e1ab3fd9"
   },
   "outputs": [
    {
     "name": "stdout",
     "output_type": "stream",
     "text": [
      "Epoch [0], train_loss:0.3393 val_loss: 0.5288, val_acc: 0.8188\n",
      "Epoch [1], train_loss:0.3234 val_loss: 0.4977, val_acc: 0.8184\n",
      "Epoch [2], train_loss:0.3049 val_loss: 0.4909, val_acc: 0.8258\n",
      "Epoch [3], train_loss:0.2860 val_loss: 0.4894, val_acc: 0.8313\n",
      "Epoch [4], train_loss:0.2764 val_loss: 0.5452, val_acc: 0.8055\n"
     ]
    }
   ],
   "source": [
    "history2=fit(epochs2,lr,model,train_dl,val_dl,grad_clip=grad_clip,weight_decay=weight_decay,opt_fn=opt_func)"
   ]
  },
  {
   "cell_type": "code",
   "execution_count": 60,
   "id": "LNFPIhmQqeJL",
   "metadata": {
    "colab": {
     "base_uri": "https://localhost:8080/",
     "height": 472
    },
    "executionInfo": {
     "elapsed": 174,
     "status": "ok",
     "timestamp": 1742912232847,
     "user": {
      "displayName": "Maganti Srikanth",
      "userId": "17653617933184362540"
     },
     "user_tz": -330
    },
    "id": "LNFPIhmQqeJL",
    "outputId": "d07de39d-e8fd-48b8-dfe7-b721c25c2ab6"
   },
   "outputs": [
    {
     "data": {
      "image/png": "[encoded data removed]",
      "text/plain": [
       "<Figure size 640x480 with 1 Axes>"
      ]
     },
     "metadata": {},
     "output_type": "display_data"
    }
   ],
   "source": [
    "plot_losses(history2)"
   ]
  },
  {
   "cell_type": "markdown",
   "id": "fe2f9f17-40d3-43e2-9b2d-048af1d7fc61",
   "metadata": {
    "id": "fe2f9f17-40d3-43e2-9b2d-048af1d7fc61"
   },
   "source": [
    "## Evaluation"
   ]
  },
  {
   "cell_type": "code",
   "execution_count": 61,
   "id": "b84cf0fe-8c4e-421a-ab3b-e7b53cd32f8f",
   "metadata": {
    "colab": {
     "base_uri": "https://localhost:8080/"
    },
    "executionInfo": {
     "elapsed": 62994,
     "status": "ok",
     "timestamp": 1742912346783,
     "user": {
      "displayName": "Maganti Srikanth",
      "userId": "17653617933184362540"
     },
     "user_tz": -330
    },
    "id": "b84cf0fe-8c4e-421a-ab3b-e7b53cd32f8f",
    "outputId": "8d7c690f-268f-4591-f77d-a141989a03a2"
   },
   "outputs": [
    {
     "name": "stderr",
     "output_type": "stream",
     "text": [
      "/usr/local/lib/python3.11/dist-packages/torch/utils/data/dataloader.py:624: UserWarning: This DataLoader will create 4 worker processes in total. Our suggested max number of worker in current system is 2, which is smaller than what this DataLoader is going to create. Please be aware that excessive worker creation might get DataLoader running slow or even freeze, lower the worker number to avoid potential slowness/freeze if necessary.\n",
      "  warnings.warn(\n"
     ]
    },
    {
     "data": {
      "text/plain": [
       "{'val_loss': 0.4996326267719269, 'val_acc': 0.8197115659713745}"
      ]
     },
     "execution_count": 61,
     "metadata": {},
     "output_type": "execute_result"
    }
   ],
   "source": [
    "test_dl=Device_Data_Loader(test_dl,device)\n",
    "evaluate(model,test_dl)"
   ]
  },
  {
   "cell_type": "code",
   "execution_count": 62,
   "id": "080f10ce-7d88-491b-b46d-e1832fa68546",
   "metadata": {
    "executionInfo": {
     "elapsed": 26,
     "status": "ok",
     "timestamp": 1742912346795,
     "user": {
      "displayName": "Maganti Srikanth",
      "userId": "17653617933184362540"
     },
     "user_tz": -330
    },
    "id": "080f10ce-7d88-491b-b46d-e1832fa68546"
   },
   "outputs": [],
   "source": [
    "torch.save(model.state_dict(),\"final.pth\")"
   ]
  },
  {
   "cell_type": "code",
   "execution_count": 41,
   "id": "24c0a42f-ea98-4129-b4e2-4e3842579612",
   "metadata": {
    "executionInfo": {
     "elapsed": 2,
     "status": "ok",
     "timestamp": 1742906690853,
     "user": {
      "displayName": "Maganti Srikanth",
      "userId": "17653617933184362540"
     },
     "user_tz": -330
    },
    "id": "24c0a42f-ea98-4129-b4e2-4e3842579612"
   },
   "outputs": [],
   "source": []
  }
 ],
 "metadata": {
  "accelerator": "GPU",
  "colab": {
   "gpuType": "T4",
   "provenance": []
  },
  "kernelspec": {
   "display_name": "Python 3",
   "language": "python",
   "name": "python3"
  },
  "language_info": {
   "codemirror_mode": {
    "name": "ipython",
    "version": 3
   },
   "file_extension": ".py",
   "mimetype": "text/x-python",
   "name": "python",
   "nbconvert_exporter": "python",
   "pygments_lexer": "ipython3",
   "version": "3.13.1"
  }
 },
 "nbformat": 4,
 "nbformat_minor": 5
}
